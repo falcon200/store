{
 "cells": [
  {
   "cell_type": "markdown",
   "metadata": {},
   "source": [
    "1. [Открытие данных](#start)\n",
    "2. [Предобработка данных](#preprocessing)\n",
    "3. [Основная часть](#work)\n",
    "    * [Изучение и проверка данных](#part0)\n",
    "    * [Количество событий в логе](#part1)\n",
    "    * [Количество пользователей в логе](#part2)\n",
    "    * [Среднее количество событий на одного пользователя](#part3)\n",
    "    * [Изучение периодов данных](#part4)\n",
    "    * [Изучение воронки событий](#part5)\n",
    "    * [Изучение событий в логах.](#part6)\n",
    "    * [Воронка продаж с учетом последовательности событий.](#part7)\n",
    "    * [Проведение AA, A/B-экспериментов.](#part8)\n",
    "    * [Предварительные расчеты](#part9)\n",
    "    * [Проведение А/А-эксперимента](#part10)\n",
    "    * [Проведение A/B-эксперимента.](#part11)\n",
    "4. [Выводы](#end)"
   ]
  },
  {
   "cell_type": "markdown",
   "metadata": {},
   "source": [
    "<a id=\"start\"></a>\n",
    "### Открытие данных"
   ]
  },
  {
   "cell_type": "code",
   "execution_count": 1,
   "metadata": {},
   "outputs": [],
   "source": [
    "import pandas as pd\n",
    "import numpy as np\n",
    "import matplotlib.pyplot as plt\n",
    "%matplotlib inline\n",
    "import seaborn as sns\n",
    "import scipy.stats as st\n",
    "import math as mth\n",
    "import datetime as dt"
   ]
  },
  {
   "cell_type": "code",
   "execution_count": 2,
   "metadata": {},
   "outputs": [],
   "source": [
    "path = 'C:/Users/sokolovae/Documents/project/'"
   ]
  },
  {
   "cell_type": "code",
   "execution_count": 3,
   "metadata": {},
   "outputs": [],
   "source": [
    "df = pd.read_csv(path + 'logs_exp.csv', sep='\\t')"
   ]
  },
  {
   "cell_type": "code",
   "execution_count": 4,
   "metadata": {},
   "outputs": [
    {
     "data": {
      "text/html": [
       "<div>\n",
       "<style scoped>\n",
       "    .dataframe tbody tr th:only-of-type {\n",
       "        vertical-align: middle;\n",
       "    }\n",
       "\n",
       "    .dataframe tbody tr th {\n",
       "        vertical-align: top;\n",
       "    }\n",
       "\n",
       "    .dataframe thead th {\n",
       "        text-align: right;\n",
       "    }\n",
       "</style>\n",
       "<table border=\"1\" class=\"dataframe\">\n",
       "  <thead>\n",
       "    <tr style=\"text-align: right;\">\n",
       "      <th></th>\n",
       "      <th>,EventName</th>\n",
       "      <th>DeviceIDHash</th>\n",
       "      <th>EventTimestamp</th>\n",
       "      <th>ExpId</th>\n",
       "    </tr>\n",
       "  </thead>\n",
       "  <tbody>\n",
       "    <tr>\n",
       "      <th>0</th>\n",
       "      <td>0,MainScreenAppear</td>\n",
       "      <td>4575588528974610257</td>\n",
       "      <td>1564029816</td>\n",
       "      <td>246</td>\n",
       "    </tr>\n",
       "    <tr>\n",
       "      <th>1</th>\n",
       "      <td>1,MainScreenAppear</td>\n",
       "      <td>7416695313311560658</td>\n",
       "      <td>1564053102</td>\n",
       "      <td>246</td>\n",
       "    </tr>\n",
       "    <tr>\n",
       "      <th>2</th>\n",
       "      <td>2,PaymentScreenSuccessful</td>\n",
       "      <td>3518123091307005509</td>\n",
       "      <td>1564054127</td>\n",
       "      <td>248</td>\n",
       "    </tr>\n",
       "    <tr>\n",
       "      <th>3</th>\n",
       "      <td>3,CartScreenAppear</td>\n",
       "      <td>3518123091307005509</td>\n",
       "      <td>1564054127</td>\n",
       "      <td>248</td>\n",
       "    </tr>\n",
       "    <tr>\n",
       "      <th>4</th>\n",
       "      <td>4,PaymentScreenSuccessful</td>\n",
       "      <td>6217807653094995999</td>\n",
       "      <td>1564055322</td>\n",
       "      <td>248</td>\n",
       "    </tr>\n",
       "  </tbody>\n",
       "</table>\n",
       "</div>"
      ],
      "text/plain": [
       "                  ,EventName         DeviceIDHash  EventTimestamp  ExpId\n",
       "0         0,MainScreenAppear  4575588528974610257      1564029816    246\n",
       "1         1,MainScreenAppear  7416695313311560658      1564053102    246\n",
       "2  2,PaymentScreenSuccessful  3518123091307005509      1564054127    248\n",
       "3         3,CartScreenAppear  3518123091307005509      1564054127    248\n",
       "4  4,PaymentScreenSuccessful  6217807653094995999      1564055322    248"
      ]
     },
     "execution_count": 4,
     "metadata": {},
     "output_type": "execute_result"
    }
   ],
   "source": [
    "df.head()"
   ]
  },
  {
   "cell_type": "markdown",
   "metadata": {},
   "source": [
    "<a id=\"preprocessing\"></a>\n",
    "### Предобработка данных"
   ]
  },
  {
   "cell_type": "code",
   "execution_count": 5,
   "metadata": {},
   "outputs": [
    {
     "name": "stdout",
     "output_type": "stream",
     "text": [
      "<class 'pandas.core.frame.DataFrame'>\n",
      "RangeIndex: 244126 entries, 0 to 244125\n",
      "Data columns (total 4 columns):\n",
      ",EventName        244126 non-null object\n",
      "DeviceIDHash      244126 non-null int64\n",
      "EventTimestamp    244126 non-null int64\n",
      "ExpId             244126 non-null int64\n",
      "dtypes: int64(3), object(1)\n",
      "memory usage: 7.5+ MB\n"
     ]
    }
   ],
   "source": [
    "df.info()"
   ]
  },
  {
   "cell_type": "code",
   "execution_count": 6,
   "metadata": {},
   "outputs": [],
   "source": [
    "df.columns = ['event_name', 'uid', 'time', 'exp_id']"
   ]
  },
  {
   "cell_type": "code",
   "execution_count": 7,
   "metadata": {},
   "outputs": [
    {
     "data": {
      "text/html": [
       "<div>\n",
       "<style scoped>\n",
       "    .dataframe tbody tr th:only-of-type {\n",
       "        vertical-align: middle;\n",
       "    }\n",
       "\n",
       "    .dataframe tbody tr th {\n",
       "        vertical-align: top;\n",
       "    }\n",
       "\n",
       "    .dataframe thead th {\n",
       "        text-align: right;\n",
       "    }\n",
       "</style>\n",
       "<table border=\"1\" class=\"dataframe\">\n",
       "  <thead>\n",
       "    <tr style=\"text-align: right;\">\n",
       "      <th></th>\n",
       "      <th>event_name</th>\n",
       "      <th>uid</th>\n",
       "      <th>time</th>\n",
       "      <th>exp_id</th>\n",
       "    </tr>\n",
       "  </thead>\n",
       "  <tbody>\n",
       "    <tr>\n",
       "      <th>0</th>\n",
       "      <td>0,MainScreenAppear</td>\n",
       "      <td>4575588528974610257</td>\n",
       "      <td>1564029816</td>\n",
       "      <td>246</td>\n",
       "    </tr>\n",
       "    <tr>\n",
       "      <th>1</th>\n",
       "      <td>1,MainScreenAppear</td>\n",
       "      <td>7416695313311560658</td>\n",
       "      <td>1564053102</td>\n",
       "      <td>246</td>\n",
       "    </tr>\n",
       "    <tr>\n",
       "      <th>2</th>\n",
       "      <td>2,PaymentScreenSuccessful</td>\n",
       "      <td>3518123091307005509</td>\n",
       "      <td>1564054127</td>\n",
       "      <td>248</td>\n",
       "    </tr>\n",
       "    <tr>\n",
       "      <th>3</th>\n",
       "      <td>3,CartScreenAppear</td>\n",
       "      <td>3518123091307005509</td>\n",
       "      <td>1564054127</td>\n",
       "      <td>248</td>\n",
       "    </tr>\n",
       "    <tr>\n",
       "      <th>4</th>\n",
       "      <td>4,PaymentScreenSuccessful</td>\n",
       "      <td>6217807653094995999</td>\n",
       "      <td>1564055322</td>\n",
       "      <td>248</td>\n",
       "    </tr>\n",
       "  </tbody>\n",
       "</table>\n",
       "</div>"
      ],
      "text/plain": [
       "                  event_name                  uid        time  exp_id\n",
       "0         0,MainScreenAppear  4575588528974610257  1564029816     246\n",
       "1         1,MainScreenAppear  7416695313311560658  1564053102     246\n",
       "2  2,PaymentScreenSuccessful  3518123091307005509  1564054127     248\n",
       "3         3,CartScreenAppear  3518123091307005509  1564054127     248\n",
       "4  4,PaymentScreenSuccessful  6217807653094995999  1564055322     248"
      ]
     },
     "execution_count": 7,
     "metadata": {},
     "output_type": "execute_result"
    }
   ],
   "source": [
    "df.head()"
   ]
  },
  {
   "cell_type": "code",
   "execution_count": 8,
   "metadata": {},
   "outputs": [],
   "source": [
    "#Приведем столбец с датой в таблице в формат даты:\n",
    "df['date'] = pd.to_datetime(df['time'], unit = 's')"
   ]
  },
  {
   "cell_type": "code",
   "execution_count": 9,
   "metadata": {},
   "outputs": [
    {
     "data": {
      "text/plain": [
       "0"
      ]
     },
     "execution_count": 9,
     "metadata": {},
     "output_type": "execute_result"
    }
   ],
   "source": [
    "df.duplicated().sum()"
   ]
  },
  {
   "cell_type": "code",
   "execution_count": 10,
   "metadata": {},
   "outputs": [],
   "source": [
    "#Создадим столбцы с категоризацией даты по периодам(день, месяц, неделя):\n",
    "df['day'] = df['date'].dt.floor('D')\n",
    "df['week'] = df['date'].astype('datetime64[W]')\n",
    "df['month'] = df['date'].astype('datetime64[M]')"
   ]
  },
  {
   "cell_type": "code",
   "execution_count": 11,
   "metadata": {},
   "outputs": [
    {
     "data": {
      "text/html": [
       "<div>\n",
       "<style scoped>\n",
       "    .dataframe tbody tr th:only-of-type {\n",
       "        vertical-align: middle;\n",
       "    }\n",
       "\n",
       "    .dataframe tbody tr th {\n",
       "        vertical-align: top;\n",
       "    }\n",
       "\n",
       "    .dataframe thead th {\n",
       "        text-align: right;\n",
       "    }\n",
       "</style>\n",
       "<table border=\"1\" class=\"dataframe\">\n",
       "  <thead>\n",
       "    <tr style=\"text-align: right;\">\n",
       "      <th></th>\n",
       "      <th>event_name</th>\n",
       "      <th>uid</th>\n",
       "      <th>time</th>\n",
       "      <th>exp_id</th>\n",
       "      <th>date</th>\n",
       "      <th>day</th>\n",
       "      <th>week</th>\n",
       "      <th>month</th>\n",
       "    </tr>\n",
       "  </thead>\n",
       "  <tbody>\n",
       "    <tr>\n",
       "      <th>0</th>\n",
       "      <td>0,MainScreenAppear</td>\n",
       "      <td>4575588528974610257</td>\n",
       "      <td>1564029816</td>\n",
       "      <td>246</td>\n",
       "      <td>2019-07-25 04:43:36</td>\n",
       "      <td>2019-07-25</td>\n",
       "      <td>2019-07-25</td>\n",
       "      <td>2019-07-01</td>\n",
       "    </tr>\n",
       "    <tr>\n",
       "      <th>1</th>\n",
       "      <td>1,MainScreenAppear</td>\n",
       "      <td>7416695313311560658</td>\n",
       "      <td>1564053102</td>\n",
       "      <td>246</td>\n",
       "      <td>2019-07-25 11:11:42</td>\n",
       "      <td>2019-07-25</td>\n",
       "      <td>2019-07-25</td>\n",
       "      <td>2019-07-01</td>\n",
       "    </tr>\n",
       "    <tr>\n",
       "      <th>2</th>\n",
       "      <td>2,PaymentScreenSuccessful</td>\n",
       "      <td>3518123091307005509</td>\n",
       "      <td>1564054127</td>\n",
       "      <td>248</td>\n",
       "      <td>2019-07-25 11:28:47</td>\n",
       "      <td>2019-07-25</td>\n",
       "      <td>2019-07-25</td>\n",
       "      <td>2019-07-01</td>\n",
       "    </tr>\n",
       "    <tr>\n",
       "      <th>3</th>\n",
       "      <td>3,CartScreenAppear</td>\n",
       "      <td>3518123091307005509</td>\n",
       "      <td>1564054127</td>\n",
       "      <td>248</td>\n",
       "      <td>2019-07-25 11:28:47</td>\n",
       "      <td>2019-07-25</td>\n",
       "      <td>2019-07-25</td>\n",
       "      <td>2019-07-01</td>\n",
       "    </tr>\n",
       "    <tr>\n",
       "      <th>4</th>\n",
       "      <td>4,PaymentScreenSuccessful</td>\n",
       "      <td>6217807653094995999</td>\n",
       "      <td>1564055322</td>\n",
       "      <td>248</td>\n",
       "      <td>2019-07-25 11:48:42</td>\n",
       "      <td>2019-07-25</td>\n",
       "      <td>2019-07-25</td>\n",
       "      <td>2019-07-01</td>\n",
       "    </tr>\n",
       "  </tbody>\n",
       "</table>\n",
       "</div>"
      ],
      "text/plain": [
       "                  event_name                  uid        time  exp_id  \\\n",
       "0         0,MainScreenAppear  4575588528974610257  1564029816     246   \n",
       "1         1,MainScreenAppear  7416695313311560658  1564053102     246   \n",
       "2  2,PaymentScreenSuccessful  3518123091307005509  1564054127     248   \n",
       "3         3,CartScreenAppear  3518123091307005509  1564054127     248   \n",
       "4  4,PaymentScreenSuccessful  6217807653094995999  1564055322     248   \n",
       "\n",
       "                 date        day       week      month  \n",
       "0 2019-07-25 04:43:36 2019-07-25 2019-07-25 2019-07-01  \n",
       "1 2019-07-25 11:11:42 2019-07-25 2019-07-25 2019-07-01  \n",
       "2 2019-07-25 11:28:47 2019-07-25 2019-07-25 2019-07-01  \n",
       "3 2019-07-25 11:28:47 2019-07-25 2019-07-25 2019-07-01  \n",
       "4 2019-07-25 11:48:42 2019-07-25 2019-07-25 2019-07-01  "
      ]
     },
     "execution_count": 11,
     "metadata": {},
     "output_type": "execute_result"
    }
   ],
   "source": [
    "df.head()"
   ]
  },
  {
   "cell_type": "markdown",
   "metadata": {},
   "source": [
    "<a id=\"work\"></a>\n",
    "## Основная часть"
   ]
  },
  {
   "cell_type": "markdown",
   "metadata": {},
   "source": [
    "### Изучение и проверка данных <a id=\"part0\"></a>"
   ]
  },
  {
   "cell_type": "markdown",
   "metadata": {},
   "source": [
    "#### Количество событий в логе <a id=\"part1\"></a>"
   ]
  },
  {
   "cell_type": "code",
   "execution_count": 12,
   "metadata": {},
   "outputs": [
    {
     "data": {
      "text/plain": [
       "244126"
      ]
     },
     "execution_count": 12,
     "metadata": {},
     "output_type": "execute_result"
    }
   ],
   "source": [
    "len(df)"
   ]
  },
  {
   "cell_type": "markdown",
   "metadata": {},
   "source": [
    "<a id=\"part2\"></a>\n",
    "#### Количество пользователей в логе"
   ]
  },
  {
   "cell_type": "code",
   "execution_count": 13,
   "metadata": {},
   "outputs": [
    {
     "data": {
      "text/plain": [
       "7551"
      ]
     },
     "execution_count": 13,
     "metadata": {},
     "output_type": "execute_result"
    }
   ],
   "source": [
    "df['uid'].nunique()"
   ]
  },
  {
   "cell_type": "markdown",
   "metadata": {},
   "source": [
    "<a id=\"part3\"></a>\n",
    "#### Среднее количество событий на одного пользователя"
   ]
  },
  {
   "cell_type": "code",
   "execution_count": 14,
   "metadata": {},
   "outputs": [
    {
     "data": {
      "text/plain": [
       "32.33028737915508"
      ]
     },
     "execution_count": 14,
     "metadata": {},
     "output_type": "execute_result"
    }
   ],
   "source": [
    "len(df)/(df['uid'].nunique())"
   ]
  },
  {
   "cell_type": "markdown",
   "metadata": {},
   "source": [
    "В логе всего 244126 событий, 7551 уникальных пользователя. На каждого пользователя в среднем приходится примерно 32 события."
   ]
  },
  {
   "cell_type": "markdown",
   "metadata": {},
   "source": [
    "#### Изучение периодов данных <a id=\"part4\"></a>"
   ]
  },
  {
   "cell_type": "code",
   "execution_count": 15,
   "metadata": {},
   "outputs": [
    {
     "data": {
      "text/plain": [
       "Timestamp('2019-07-25 04:43:36')"
      ]
     },
     "execution_count": 15,
     "metadata": {},
     "output_type": "execute_result"
    }
   ],
   "source": [
    "#Найдем самую раннюю дату в логе\n",
    "df['date'].min()"
   ]
  },
  {
   "cell_type": "code",
   "execution_count": 16,
   "metadata": {},
   "outputs": [
    {
     "data": {
      "text/plain": [
       "Timestamp('2019-08-07 21:15:17')"
      ]
     },
     "execution_count": 16,
     "metadata": {},
     "output_type": "execute_result"
    }
   ],
   "source": [
    "#Найдем самую позднюю дату в логе\n",
    "df['date'].max()"
   ]
  },
  {
   "cell_type": "code",
   "execution_count": 17,
   "metadata": {},
   "outputs": [
    {
     "data": {
      "text/plain": [
       "14"
      ]
     },
     "execution_count": 17,
     "metadata": {},
     "output_type": "execute_result"
    }
   ],
   "source": [
    "#Найдем сколько всего уникальных дат\n",
    "df['day'].nunique()"
   ]
  },
  {
   "cell_type": "code",
   "execution_count": 18,
   "metadata": {},
   "outputs": [
    {
     "data": {
      "image/png": "[encoded data removed]",
      "text/plain": [
       "<Figure size 576x432 with 1 Axes>"
      ]
     },
     "metadata": {},
     "output_type": "display_data"
    }
   ],
   "source": [
    "# Построим график распределения событий по дате:\n",
    "sns.set_style('whitegrid')\n",
    "plt.figure(figsize=(8, 6))\n",
    "ax = sns.countplot(y= 'day', data = df, \n",
    "                  palette = 'Blues_d')\n",
    "ax.set(xlabel = 'Количество в логе, шт')\n",
    "ax.set(ylabel = 'Дата')\n",
    "ax.set_title('Количество событий по дате')\n",
    "plt.show()"
   ]
  },
  {
   "cell_type": "markdown",
   "metadata": {},
   "source": [
    "На основании графика можно сделать вывод о том, что полные данные у нас только за период с 01 августа по 07 августа 2019 года. Их и нужно принимать в расчет."
   ]
  },
  {
   "cell_type": "code",
   "execution_count": 19,
   "metadata": {},
   "outputs": [
    {
     "data": {
      "text/plain": [
       "2828"
      ]
     },
     "execution_count": 19,
     "metadata": {},
     "output_type": "execute_result"
    }
   ],
   "source": [
    "#Посчитаем сколько всего событий было \"потеряно\" в неполных данных\n",
    "len(df.query('day < \"2019-08-01\"'))"
   ]
  },
  {
   "cell_type": "code",
   "execution_count": 20,
   "metadata": {},
   "outputs": [
    {
     "data": {
      "text/plain": [
       "0.011584181938834865"
      ]
     },
     "execution_count": 20,
     "metadata": {},
     "output_type": "execute_result"
    }
   ],
   "source": [
    "#Найдем долю событий в неполных данных ко всему объему лога событий\n",
    "len(df.query('day < \"2019-08-01\"'))/len(df)"
   ]
  },
  {
   "cell_type": "code",
   "execution_count": 21,
   "metadata": {},
   "outputs": [
    {
     "data": {
      "text/plain": [
       "17"
      ]
     },
     "execution_count": 21,
     "metadata": {},
     "output_type": "execute_result"
    }
   ],
   "source": [
    "#Найдем количество уникальных пользователей, которых мы потеряли в неполных данных\n",
    "df['uid'].nunique() - df.query('day > \"2019-07-31\"')['uid'].nunique()"
   ]
  },
  {
   "cell_type": "code",
   "execution_count": 22,
   "metadata": {},
   "outputs": [
    {
     "data": {
      "text/plain": [
       "0.0022513574361011784"
      ]
     },
     "execution_count": 22,
     "metadata": {},
     "output_type": "execute_result"
    }
   ],
   "source": [
    "#Найдем долю уникальных пользователей, которых мы потеряли в неполных данных\n",
    "(df['uid'].nunique() - df.query('day > \"2019-07-31\"')['uid'].nunique())/df['uid'].nunique() "
   ]
  },
  {
   "cell_type": "markdown",
   "metadata": {},
   "source": [
    "В неполных данных чуть более 1% лога событий и примерно 0,2% уникальных пользователей."
   ]
  },
  {
   "cell_type": "markdown",
   "metadata": {},
   "source": [
    "### Изучение воронки событий <a id=\"part5\"></a>\n"
   ]
  },
  {
   "cell_type": "code",
   "execution_count": 23,
   "metadata": {},
   "outputs": [],
   "source": [
    "df = df.query('day > \"2019-07-31\"').copy() # убираем неполные данные"
   ]
  },
  {
   "cell_type": "code",
   "execution_count": 24,
   "metadata": {},
   "outputs": [
    {
     "data": {
      "text/html": [
       "<div>\n",
       "<style scoped>\n",
       "    .dataframe tbody tr th:only-of-type {\n",
       "        vertical-align: middle;\n",
       "    }\n",
       "\n",
       "    .dataframe tbody tr th {\n",
       "        vertical-align: top;\n",
       "    }\n",
       "\n",
       "    .dataframe thead th {\n",
       "        text-align: right;\n",
       "    }\n",
       "</style>\n",
       "<table border=\"1\" class=\"dataframe\">\n",
       "  <thead>\n",
       "    <tr style=\"text-align: right;\">\n",
       "      <th></th>\n",
       "      <th>event_name</th>\n",
       "      <th>uid</th>\n",
       "      <th>time</th>\n",
       "      <th>exp_id</th>\n",
       "      <th>date</th>\n",
       "      <th>day</th>\n",
       "      <th>week</th>\n",
       "      <th>month</th>\n",
       "    </tr>\n",
       "  </thead>\n",
       "  <tbody>\n",
       "    <tr>\n",
       "      <th>2828</th>\n",
       "      <td>2828,Tutorial</td>\n",
       "      <td>3737462046622621720</td>\n",
       "      <td>1564618048</td>\n",
       "      <td>246</td>\n",
       "      <td>2019-08-01 00:07:28</td>\n",
       "      <td>2019-08-01</td>\n",
       "      <td>2019-08-01</td>\n",
       "      <td>2019-08-01</td>\n",
       "    </tr>\n",
       "    <tr>\n",
       "      <th>2829</th>\n",
       "      <td>2829,MainScreenAppear</td>\n",
       "      <td>3737462046622621720</td>\n",
       "      <td>1564618080</td>\n",
       "      <td>246</td>\n",
       "      <td>2019-08-01 00:08:00</td>\n",
       "      <td>2019-08-01</td>\n",
       "      <td>2019-08-01</td>\n",
       "      <td>2019-08-01</td>\n",
       "    </tr>\n",
       "    <tr>\n",
       "      <th>2830</th>\n",
       "      <td>2830,MainScreenAppear</td>\n",
       "      <td>3737462046622621720</td>\n",
       "      <td>1564618135</td>\n",
       "      <td>246</td>\n",
       "      <td>2019-08-01 00:08:55</td>\n",
       "      <td>2019-08-01</td>\n",
       "      <td>2019-08-01</td>\n",
       "      <td>2019-08-01</td>\n",
       "    </tr>\n",
       "    <tr>\n",
       "      <th>2831</th>\n",
       "      <td>2831,OffersScreenAppear</td>\n",
       "      <td>3737462046622621720</td>\n",
       "      <td>1564618138</td>\n",
       "      <td>246</td>\n",
       "      <td>2019-08-01 00:08:58</td>\n",
       "      <td>2019-08-01</td>\n",
       "      <td>2019-08-01</td>\n",
       "      <td>2019-08-01</td>\n",
       "    </tr>\n",
       "    <tr>\n",
       "      <th>2832</th>\n",
       "      <td>2832,MainScreenAppear</td>\n",
       "      <td>1433840883824088890</td>\n",
       "      <td>1564618139</td>\n",
       "      <td>247</td>\n",
       "      <td>2019-08-01 00:08:59</td>\n",
       "      <td>2019-08-01</td>\n",
       "      <td>2019-08-01</td>\n",
       "      <td>2019-08-01</td>\n",
       "    </tr>\n",
       "  </tbody>\n",
       "</table>\n",
       "</div>"
      ],
      "text/plain": [
       "                   event_name                  uid        time  exp_id  \\\n",
       "2828            2828,Tutorial  3737462046622621720  1564618048     246   \n",
       "2829    2829,MainScreenAppear  3737462046622621720  1564618080     246   \n",
       "2830    2830,MainScreenAppear  3737462046622621720  1564618135     246   \n",
       "2831  2831,OffersScreenAppear  3737462046622621720  1564618138     246   \n",
       "2832    2832,MainScreenAppear  1433840883824088890  1564618139     247   \n",
       "\n",
       "                    date        day       week      month  \n",
       "2828 2019-08-01 00:07:28 2019-08-01 2019-08-01 2019-08-01  \n",
       "2829 2019-08-01 00:08:00 2019-08-01 2019-08-01 2019-08-01  \n",
       "2830 2019-08-01 00:08:55 2019-08-01 2019-08-01 2019-08-01  \n",
       "2831 2019-08-01 00:08:58 2019-08-01 2019-08-01 2019-08-01  \n",
       "2832 2019-08-01 00:08:59 2019-08-01 2019-08-01 2019-08-01  "
      ]
     },
     "execution_count": 24,
     "metadata": {},
     "output_type": "execute_result"
    }
   ],
   "source": [
    "df.head()"
   ]
  },
  {
   "cell_type": "markdown",
   "metadata": {},
   "source": [
    "#### Изучение событий в логах <a id=\"part6\"></a>"
   ]
  },
  {
   "cell_type": "code",
   "execution_count": 25,
   "metadata": {},
   "outputs": [
    {
     "data": {
      "text/plain": [
       "242428,PaymentScreenSuccessful    1\n",
       "15075,MainScreenAppear            1\n",
       "52571,MainScreenAppear            1\n",
       "90479,OffersScreenAppear          1\n",
       "213572,PaymentScreenSuccessful    1\n",
       "Name: event_name, dtype: int64"
      ]
     },
     "execution_count": 25,
     "metadata": {},
     "output_type": "execute_result"
    }
   ],
   "source": [
    "df['event_name'].value_counts().sort_values(ascending = False).head()# в названии события задублировались индексы"
   ]
  },
  {
   "cell_type": "code",
   "execution_count": 26,
   "metadata": {},
   "outputs": [],
   "source": [
    "# Для удаления индексов из названия событий напишем функцию, которая на вход берет название события,\\\n",
    "#а на выход выдает только значения после запятой\n",
    "def find_log(event_name):\n",
    "    start = event_name.find(',')\n",
    "    event = event_name[start+1:]\n",
    "# возвращаем название улицы без пробелов и дополнительных знаков    \n",
    "    return event.strip()"
   ]
  },
  {
   "cell_type": "code",
   "execution_count": 27,
   "metadata": {},
   "outputs": [
    {
     "data": {
      "text/plain": [
       "'Tutorial'"
      ]
     },
     "execution_count": 27,
     "metadata": {},
     "output_type": "execute_result"
    }
   ],
   "source": [
    "find_log('2828,Tutorial')"
   ]
  },
  {
   "cell_type": "code",
   "execution_count": 28,
   "metadata": {},
   "outputs": [],
   "source": [
    "# Применяем функцию к столбцу с событиями\n",
    "df['event_name_true'] = df['event_name'].apply(np.vectorize(find_log))"
   ]
  },
  {
   "cell_type": "code",
   "execution_count": 29,
   "metadata": {},
   "outputs": [
    {
     "data": {
      "text/html": [
       "<div>\n",
       "<style scoped>\n",
       "    .dataframe tbody tr th:only-of-type {\n",
       "        vertical-align: middle;\n",
       "    }\n",
       "\n",
       "    .dataframe tbody tr th {\n",
       "        vertical-align: top;\n",
       "    }\n",
       "\n",
       "    .dataframe thead th {\n",
       "        text-align: right;\n",
       "    }\n",
       "</style>\n",
       "<table border=\"1\" class=\"dataframe\">\n",
       "  <thead>\n",
       "    <tr style=\"text-align: right;\">\n",
       "      <th></th>\n",
       "      <th>event_name</th>\n",
       "      <th>uid</th>\n",
       "      <th>time</th>\n",
       "      <th>exp_id</th>\n",
       "      <th>date</th>\n",
       "      <th>day</th>\n",
       "      <th>week</th>\n",
       "      <th>month</th>\n",
       "      <th>event_name_true</th>\n",
       "    </tr>\n",
       "  </thead>\n",
       "  <tbody>\n",
       "    <tr>\n",
       "      <th>2828</th>\n",
       "      <td>2828,Tutorial</td>\n",
       "      <td>3737462046622621720</td>\n",
       "      <td>1564618048</td>\n",
       "      <td>246</td>\n",
       "      <td>2019-08-01 00:07:28</td>\n",
       "      <td>2019-08-01</td>\n",
       "      <td>2019-08-01</td>\n",
       "      <td>2019-08-01</td>\n",
       "      <td>Tutorial</td>\n",
       "    </tr>\n",
       "    <tr>\n",
       "      <th>2829</th>\n",
       "      <td>2829,MainScreenAppear</td>\n",
       "      <td>3737462046622621720</td>\n",
       "      <td>1564618080</td>\n",
       "      <td>246</td>\n",
       "      <td>2019-08-01 00:08:00</td>\n",
       "      <td>2019-08-01</td>\n",
       "      <td>2019-08-01</td>\n",
       "      <td>2019-08-01</td>\n",
       "      <td>MainScreenAppear</td>\n",
       "    </tr>\n",
       "    <tr>\n",
       "      <th>2830</th>\n",
       "      <td>2830,MainScreenAppear</td>\n",
       "      <td>3737462046622621720</td>\n",
       "      <td>1564618135</td>\n",
       "      <td>246</td>\n",
       "      <td>2019-08-01 00:08:55</td>\n",
       "      <td>2019-08-01</td>\n",
       "      <td>2019-08-01</td>\n",
       "      <td>2019-08-01</td>\n",
       "      <td>MainScreenAppear</td>\n",
       "    </tr>\n",
       "    <tr>\n",
       "      <th>2831</th>\n",
       "      <td>2831,OffersScreenAppear</td>\n",
       "      <td>3737462046622621720</td>\n",
       "      <td>1564618138</td>\n",
       "      <td>246</td>\n",
       "      <td>2019-08-01 00:08:58</td>\n",
       "      <td>2019-08-01</td>\n",
       "      <td>2019-08-01</td>\n",
       "      <td>2019-08-01</td>\n",
       "      <td>OffersScreenAppear</td>\n",
       "    </tr>\n",
       "    <tr>\n",
       "      <th>2832</th>\n",
       "      <td>2832,MainScreenAppear</td>\n",
       "      <td>1433840883824088890</td>\n",
       "      <td>1564618139</td>\n",
       "      <td>247</td>\n",
       "      <td>2019-08-01 00:08:59</td>\n",
       "      <td>2019-08-01</td>\n",
       "      <td>2019-08-01</td>\n",
       "      <td>2019-08-01</td>\n",
       "      <td>MainScreenAppear</td>\n",
       "    </tr>\n",
       "  </tbody>\n",
       "</table>\n",
       "</div>"
      ],
      "text/plain": [
       "                   event_name                  uid        time  exp_id  \\\n",
       "2828            2828,Tutorial  3737462046622621720  1564618048     246   \n",
       "2829    2829,MainScreenAppear  3737462046622621720  1564618080     246   \n",
       "2830    2830,MainScreenAppear  3737462046622621720  1564618135     246   \n",
       "2831  2831,OffersScreenAppear  3737462046622621720  1564618138     246   \n",
       "2832    2832,MainScreenAppear  1433840883824088890  1564618139     247   \n",
       "\n",
       "                    date        day       week      month     event_name_true  \n",
       "2828 2019-08-01 00:07:28 2019-08-01 2019-08-01 2019-08-01            Tutorial  \n",
       "2829 2019-08-01 00:08:00 2019-08-01 2019-08-01 2019-08-01    MainScreenAppear  \n",
       "2830 2019-08-01 00:08:55 2019-08-01 2019-08-01 2019-08-01    MainScreenAppear  \n",
       "2831 2019-08-01 00:08:58 2019-08-01 2019-08-01 2019-08-01  OffersScreenAppear  \n",
       "2832 2019-08-01 00:08:59 2019-08-01 2019-08-01 2019-08-01    MainScreenAppear  "
      ]
     },
     "execution_count": 29,
     "metadata": {},
     "output_type": "execute_result"
    }
   ],
   "source": [
    "df.head()"
   ]
  },
  {
   "cell_type": "code",
   "execution_count": 30,
   "metadata": {},
   "outputs": [
    {
     "data": {
      "text/html": [
       "<div>\n",
       "<style scoped>\n",
       "    .dataframe tbody tr th:only-of-type {\n",
       "        vertical-align: middle;\n",
       "    }\n",
       "\n",
       "    .dataframe tbody tr th {\n",
       "        vertical-align: top;\n",
       "    }\n",
       "\n",
       "    .dataframe thead th {\n",
       "        text-align: right;\n",
       "    }\n",
       "</style>\n",
       "<table border=\"1\" class=\"dataframe\">\n",
       "  <thead>\n",
       "    <tr style=\"text-align: right;\">\n",
       "      <th></th>\n",
       "      <th>index</th>\n",
       "      <th>event_name_true</th>\n",
       "    </tr>\n",
       "  </thead>\n",
       "  <tbody>\n",
       "    <tr>\n",
       "      <th>0</th>\n",
       "      <td>MainScreenAppear</td>\n",
       "      <td>117431</td>\n",
       "    </tr>\n",
       "    <tr>\n",
       "      <th>1</th>\n",
       "      <td>OffersScreenAppear</td>\n",
       "      <td>46350</td>\n",
       "    </tr>\n",
       "    <tr>\n",
       "      <th>2</th>\n",
       "      <td>CartScreenAppear</td>\n",
       "      <td>42365</td>\n",
       "    </tr>\n",
       "    <tr>\n",
       "      <th>3</th>\n",
       "      <td>PaymentScreenSuccessful</td>\n",
       "      <td>34113</td>\n",
       "    </tr>\n",
       "    <tr>\n",
       "      <th>4</th>\n",
       "      <td>Tutorial</td>\n",
       "      <td>1039</td>\n",
       "    </tr>\n",
       "  </tbody>\n",
       "</table>\n",
       "</div>"
      ],
      "text/plain": [
       "                     index  event_name_true\n",
       "0         MainScreenAppear           117431\n",
       "1       OffersScreenAppear            46350\n",
       "2         CartScreenAppear            42365\n",
       "3  PaymentScreenSuccessful            34113\n",
       "4                 Tutorial             1039"
      ]
     },
     "execution_count": 30,
     "metadata": {},
     "output_type": "execute_result"
    }
   ],
   "source": [
    "df['event_name_true'].value_counts().sort_values(ascending = False).reset_index()"
   ]
  },
  {
   "cell_type": "markdown",
   "metadata": {},
   "source": [
    "Самое большое количество событий приходится на MainScreenAppear(переход клиентов на главную страницу сайта), затем идет OffersScreenAppear(переход на экран с предложениями), после него CartScreenAppear(переход в корзину с покупками), далее PaymentScreenSuccessful (подтверждение об оплате). \n",
    "\n",
    "Наименьшее количество событий приходится на Tutorial. На мой взгляд, это переход клиентов на станицу с помощью(руководством) по сайту, что может свидетельствовать о технических проблемах сайта."
   ]
  },
  {
   "cell_type": "code",
   "execution_count": 31,
   "metadata": {},
   "outputs": [
    {
     "data": {
      "text/html": [
       "<div>\n",
       "<style scoped>\n",
       "    .dataframe tbody tr th:only-of-type {\n",
       "        vertical-align: middle;\n",
       "    }\n",
       "\n",
       "    .dataframe tbody tr th {\n",
       "        vertical-align: top;\n",
       "    }\n",
       "\n",
       "    .dataframe thead th {\n",
       "        text-align: right;\n",
       "    }\n",
       "</style>\n",
       "<table border=\"1\" class=\"dataframe\">\n",
       "  <thead>\n",
       "    <tr style=\"text-align: right;\">\n",
       "      <th></th>\n",
       "      <th>event_name_true</th>\n",
       "      <th>uid</th>\n",
       "    </tr>\n",
       "  </thead>\n",
       "  <tbody>\n",
       "    <tr>\n",
       "      <th>0</th>\n",
       "      <td>MainScreenAppear</td>\n",
       "      <td>7419</td>\n",
       "    </tr>\n",
       "    <tr>\n",
       "      <th>1</th>\n",
       "      <td>OffersScreenAppear</td>\n",
       "      <td>4593</td>\n",
       "    </tr>\n",
       "    <tr>\n",
       "      <th>2</th>\n",
       "      <td>CartScreenAppear</td>\n",
       "      <td>3734</td>\n",
       "    </tr>\n",
       "    <tr>\n",
       "      <th>3</th>\n",
       "      <td>PaymentScreenSuccessful</td>\n",
       "      <td>3539</td>\n",
       "    </tr>\n",
       "    <tr>\n",
       "      <th>4</th>\n",
       "      <td>Tutorial</td>\n",
       "      <td>840</td>\n",
       "    </tr>\n",
       "  </tbody>\n",
       "</table>\n",
       "</div>"
      ],
      "text/plain": [
       "           event_name_true   uid\n",
       "0         MainScreenAppear  7419\n",
       "1       OffersScreenAppear  4593\n",
       "2         CartScreenAppear  3734\n",
       "3  PaymentScreenSuccessful  3539\n",
       "4                 Tutorial   840"
      ]
     },
     "execution_count": 31,
     "metadata": {},
     "output_type": "execute_result"
    }
   ],
   "source": [
    "# Посчитаем количество уникальных клиентов на каждом этапе воронки:\n",
    "df_gr = df.pivot_table(index = 'event_name_true', values = 'uid', aggfunc = 'nunique').sort_values('uid', ascending = False)\n",
    "del df_gr['event_name_true']\n",
    "df_gr.reset_index()"
   ]
  },
  {
   "cell_type": "code",
   "execution_count": 32,
   "metadata": {},
   "outputs": [
    {
     "data": {
      "text/html": [
       "<div>\n",
       "<style scoped>\n",
       "    .dataframe tbody tr th:only-of-type {\n",
       "        vertical-align: middle;\n",
       "    }\n",
       "\n",
       "    .dataframe tbody tr th {\n",
       "        vertical-align: top;\n",
       "    }\n",
       "\n",
       "    .dataframe thead th {\n",
       "        text-align: right;\n",
       "    }\n",
       "</style>\n",
       "<table border=\"1\" class=\"dataframe\">\n",
       "  <thead>\n",
       "    <tr style=\"text-align: right;\">\n",
       "      <th></th>\n",
       "      <th>uid</th>\n",
       "      <th>ratio</th>\n",
       "    </tr>\n",
       "    <tr>\n",
       "      <th>event_name_true</th>\n",
       "      <th></th>\n",
       "      <th></th>\n",
       "    </tr>\n",
       "  </thead>\n",
       "  <tbody>\n",
       "    <tr>\n",
       "      <th>MainScreenAppear</th>\n",
       "      <td>7419</td>\n",
       "      <td>0.984736</td>\n",
       "    </tr>\n",
       "    <tr>\n",
       "      <th>OffersScreenAppear</th>\n",
       "      <td>4593</td>\n",
       "      <td>0.609636</td>\n",
       "    </tr>\n",
       "    <tr>\n",
       "      <th>CartScreenAppear</th>\n",
       "      <td>3734</td>\n",
       "      <td>0.495620</td>\n",
       "    </tr>\n",
       "    <tr>\n",
       "      <th>PaymentScreenSuccessful</th>\n",
       "      <td>3539</td>\n",
       "      <td>0.469737</td>\n",
       "    </tr>\n",
       "    <tr>\n",
       "      <th>Tutorial</th>\n",
       "      <td>840</td>\n",
       "      <td>0.111495</td>\n",
       "    </tr>\n",
       "  </tbody>\n",
       "</table>\n",
       "</div>"
      ],
      "text/plain": [
       "                          uid     ratio\n",
       "event_name_true                        \n",
       "MainScreenAppear         7419  0.984736\n",
       "OffersScreenAppear       4593  0.609636\n",
       "CartScreenAppear         3734  0.495620\n",
       "PaymentScreenSuccessful  3539  0.469737\n",
       "Tutorial                  840  0.111495"
      ]
     },
     "execution_count": 32,
     "metadata": {},
     "output_type": "execute_result"
    }
   ],
   "source": [
    "# Найдем долю клиентов на каждом жтапе воронки продаж от общего числа клиентов:\n",
    "df_gr['ratio'] = df_gr['uid']/df['uid'].nunique()\n",
    "df_gr"
   ]
  },
  {
   "cell_type": "markdown",
   "metadata": {},
   "source": [
    "На этом этапе все выглядит вполне неплохо, почти 47% от общего числа пользователей сайта совершили покупку. Единственное, что смущает, что 11% пользователей обратилось за помощью. Это может свидетельствовать о проблемах техничесткого характера с выбором/оплатой товаров на сайте."
   ]
  },
  {
   "cell_type": "markdown",
   "metadata": {},
   "source": [
    "#### Воронка продаж с учетом последовательности событий <a id=\"part7\"></a>"
   ]
  },
  {
   "cell_type": "code",
   "execution_count": 33,
   "metadata": {},
   "outputs": [
    {
     "name": "stdout",
     "output_type": "stream",
     "text": [
      "Посетителей: 7419\n",
      "Выбирали товар: 4201\n",
      "Добавили товар в корзину: 1767\n",
      "Оплатили: 454\n",
      "Доля клиентов, которые выбирали товар от числа посетителей: 0.5662488205957676\n",
      "Доля клиентов, которые добавили товар в корзину от тех, кто выбирал товар: 0.42061413949059745\n",
      "Доля клиентов, кто оплатил товар от тех, кто добавил товар в корзину: 0.2569326542161856\n",
      "Доля клиентов, кто оплатил товар от числа посетителей сайта: 0.06119423102844049\n"
     ]
    }
   ],
   "source": [
    "# Создадим таблицу, где в качестве строк будут уникальные клиенты, \\\n",
    "# а в качестве столбцов - ивенты событий(посещение сайта, оплата товара)\n",
    "users = df.pivot_table(\n",
    "    index='uid', \n",
    "    columns='event_name_true', \n",
    "    values='date',\n",
    "    aggfunc='min').reset_index()\n",
    "\n",
    "# На первом шаге выберем клиентов, которые посещали сайт. \n",
    "# На последующих шахаг найдем клиентов, которые посещали сайт и перешли к выбору товара и т.д.:\n",
    "step_1 = ~users['MainScreenAppear'].isna()\n",
    "step_2 = step_1 & (users['OffersScreenAppear'] > users['MainScreenAppear'])\n",
    "step_3 = step_2 & (users['CartScreenAppear'] > users['OffersScreenAppear'])\n",
    "step_4 = step_3 & (users['PaymentScreenSuccessful'] > users['CartScreenAppear'])\n",
    "\n",
    "# Найдем количество елиентов на каждом этапе:\n",
    "n_MainScreenAppear = len(users[step_1])\n",
    "n_OffersScreenAppear = users[step_2].shape[0]\n",
    "n_CartScreenAppear = users[step_3].shape[0]\n",
    "n_PaymentScreenSuccessful = users[step_4].shape[0]\n",
    "\n",
    "print('Посетителей:', n_MainScreenAppear)\n",
    "print('Выбирали товар:', n_OffersScreenAppear)\n",
    "print('Добавили товар в корзину:', n_CartScreenAppear)\n",
    "print('Оплатили:', n_PaymentScreenSuccessful)\n",
    "\n",
    "print('Доля клиентов, которые выбирали товар от числа посетителей:', n_OffersScreenAppear/n_MainScreenAppear)\n",
    "print('Доля клиентов, которые добавили товар в корзину от тех, кто выбирал товар:', n_CartScreenAppear/n_OffersScreenAppear)\n",
    "print('Доля клиентов, кто оплатил товар от тех, кто добавил товар в корзину:', n_PaymentScreenSuccessful/n_CartScreenAppear)\n",
    "print('Доля клиентов, кто оплатил товар от числа посетителей сайта:', n_PaymentScreenSuccessful/n_MainScreenAppear)\n"
   ]
  },
  {
   "cell_type": "markdown",
   "metadata": {},
   "source": [
    "Из тех, кто полностью прошел всю цепочку от посещения сайта до оплаты товара, только 6% дошли до оплаты товара. Больше всего клиентов \"теряется\" на переходе от этапа посещения сайта к выбору товара. Если брать долю клиентов, то самая большая доля потери клиентов происходит на этапе добавлении товара в корзину и оплате товара. Это может быть связано, например, со сложностями в оплате товара."
   ]
  },
  {
   "cell_type": "markdown",
   "metadata": {},
   "source": [
    "### Проведение AA, A/B-экспериментов. <a id=\"part8\"></a>"
   ]
  },
  {
   "cell_type": "code",
   "execution_count": 34,
   "metadata": {},
   "outputs": [
    {
     "data": {
      "text/html": [
       "<div>\n",
       "<style scoped>\n",
       "    .dataframe tbody tr th:only-of-type {\n",
       "        vertical-align: middle;\n",
       "    }\n",
       "\n",
       "    .dataframe tbody tr th {\n",
       "        vertical-align: top;\n",
       "    }\n",
       "\n",
       "    .dataframe thead th {\n",
       "        text-align: right;\n",
       "    }\n",
       "</style>\n",
       "<table border=\"1\" class=\"dataframe\">\n",
       "  <thead>\n",
       "    <tr style=\"text-align: right;\">\n",
       "      <th></th>\n",
       "      <th>event_name</th>\n",
       "      <th>uid</th>\n",
       "      <th>time</th>\n",
       "      <th>exp_id</th>\n",
       "      <th>date</th>\n",
       "      <th>day</th>\n",
       "      <th>week</th>\n",
       "      <th>month</th>\n",
       "      <th>event_name_true</th>\n",
       "    </tr>\n",
       "  </thead>\n",
       "  <tbody>\n",
       "    <tr>\n",
       "      <th>2828</th>\n",
       "      <td>2828,Tutorial</td>\n",
       "      <td>3737462046622621720</td>\n",
       "      <td>1564618048</td>\n",
       "      <td>246</td>\n",
       "      <td>2019-08-01 00:07:28</td>\n",
       "      <td>2019-08-01</td>\n",
       "      <td>2019-08-01</td>\n",
       "      <td>2019-08-01</td>\n",
       "      <td>Tutorial</td>\n",
       "    </tr>\n",
       "    <tr>\n",
       "      <th>2829</th>\n",
       "      <td>2829,MainScreenAppear</td>\n",
       "      <td>3737462046622621720</td>\n",
       "      <td>1564618080</td>\n",
       "      <td>246</td>\n",
       "      <td>2019-08-01 00:08:00</td>\n",
       "      <td>2019-08-01</td>\n",
       "      <td>2019-08-01</td>\n",
       "      <td>2019-08-01</td>\n",
       "      <td>MainScreenAppear</td>\n",
       "    </tr>\n",
       "    <tr>\n",
       "      <th>2830</th>\n",
       "      <td>2830,MainScreenAppear</td>\n",
       "      <td>3737462046622621720</td>\n",
       "      <td>1564618135</td>\n",
       "      <td>246</td>\n",
       "      <td>2019-08-01 00:08:55</td>\n",
       "      <td>2019-08-01</td>\n",
       "      <td>2019-08-01</td>\n",
       "      <td>2019-08-01</td>\n",
       "      <td>MainScreenAppear</td>\n",
       "    </tr>\n",
       "    <tr>\n",
       "      <th>2831</th>\n",
       "      <td>2831,OffersScreenAppear</td>\n",
       "      <td>3737462046622621720</td>\n",
       "      <td>1564618138</td>\n",
       "      <td>246</td>\n",
       "      <td>2019-08-01 00:08:58</td>\n",
       "      <td>2019-08-01</td>\n",
       "      <td>2019-08-01</td>\n",
       "      <td>2019-08-01</td>\n",
       "      <td>OffersScreenAppear</td>\n",
       "    </tr>\n",
       "    <tr>\n",
       "      <th>2832</th>\n",
       "      <td>2832,MainScreenAppear</td>\n",
       "      <td>1433840883824088890</td>\n",
       "      <td>1564618139</td>\n",
       "      <td>247</td>\n",
       "      <td>2019-08-01 00:08:59</td>\n",
       "      <td>2019-08-01</td>\n",
       "      <td>2019-08-01</td>\n",
       "      <td>2019-08-01</td>\n",
       "      <td>MainScreenAppear</td>\n",
       "    </tr>\n",
       "  </tbody>\n",
       "</table>\n",
       "</div>"
      ],
      "text/plain": [
       "                   event_name                  uid        time  exp_id  \\\n",
       "2828            2828,Tutorial  3737462046622621720  1564618048     246   \n",
       "2829    2829,MainScreenAppear  3737462046622621720  1564618080     246   \n",
       "2830    2830,MainScreenAppear  3737462046622621720  1564618135     246   \n",
       "2831  2831,OffersScreenAppear  3737462046622621720  1564618138     246   \n",
       "2832    2832,MainScreenAppear  1433840883824088890  1564618139     247   \n",
       "\n",
       "                    date        day       week      month     event_name_true  \n",
       "2828 2019-08-01 00:07:28 2019-08-01 2019-08-01 2019-08-01            Tutorial  \n",
       "2829 2019-08-01 00:08:00 2019-08-01 2019-08-01 2019-08-01    MainScreenAppear  \n",
       "2830 2019-08-01 00:08:55 2019-08-01 2019-08-01 2019-08-01    MainScreenAppear  \n",
       "2831 2019-08-01 00:08:58 2019-08-01 2019-08-01 2019-08-01  OffersScreenAppear  \n",
       "2832 2019-08-01 00:08:59 2019-08-01 2019-08-01 2019-08-01    MainScreenAppear  "
      ]
     },
     "execution_count": 34,
     "metadata": {},
     "output_type": "execute_result"
    }
   ],
   "source": [
    "df.head()"
   ]
  },
  {
   "cell_type": "code",
   "execution_count": 35,
   "metadata": {},
   "outputs": [
    {
     "data": {
      "text/html": [
       "<div>\n",
       "<style scoped>\n",
       "    .dataframe tbody tr th:only-of-type {\n",
       "        vertical-align: middle;\n",
       "    }\n",
       "\n",
       "    .dataframe tbody tr th {\n",
       "        vertical-align: top;\n",
       "    }\n",
       "\n",
       "    .dataframe thead th {\n",
       "        text-align: right;\n",
       "    }\n",
       "</style>\n",
       "<table border=\"1\" class=\"dataframe\">\n",
       "  <thead>\n",
       "    <tr style=\"text-align: right;\">\n",
       "      <th></th>\n",
       "      <th>exp_id</th>\n",
       "      <th>uid</th>\n",
       "    </tr>\n",
       "  </thead>\n",
       "  <tbody>\n",
       "    <tr>\n",
       "      <th>0</th>\n",
       "      <td>246</td>\n",
       "      <td>2484</td>\n",
       "    </tr>\n",
       "    <tr>\n",
       "      <th>1</th>\n",
       "      <td>247</td>\n",
       "      <td>2513</td>\n",
       "    </tr>\n",
       "    <tr>\n",
       "      <th>2</th>\n",
       "      <td>248</td>\n",
       "      <td>2537</td>\n",
       "    </tr>\n",
       "  </tbody>\n",
       "</table>\n",
       "</div>"
      ],
      "text/plain": [
       "   exp_id   uid\n",
       "0     246  2484\n",
       "1     247  2513\n",
       "2     248  2537"
      ]
     },
     "execution_count": 35,
     "metadata": {},
     "output_type": "execute_result"
    }
   ],
   "source": [
    "# Найдем количество уникальных пользователей в каждой контрольной группе:\n",
    "df.groupby('exp_id', as_index=False).agg({'uid' : 'nunique'})"
   ]
  },
  {
   "cell_type": "code",
   "execution_count": 36,
   "metadata": {},
   "outputs": [
    {
     "data": {
      "text/plain": [
       "7534"
      ]
     },
     "execution_count": 36,
     "metadata": {},
     "output_type": "execute_result"
    }
   ],
   "source": [
    "#найдем общее количество уникальных пользователей\n",
    "df['uid'].nunique()"
   ]
  },
  {
   "cell_type": "code",
   "execution_count": 37,
   "metadata": {},
   "outputs": [
    {
     "data": {
      "text/plain": [
       "7419"
      ]
     },
     "execution_count": 37,
     "metadata": {},
     "output_type": "execute_result"
    }
   ],
   "source": [
    "# число клиентов, совершивших первое событие\n",
    "n_MainScreenAppear"
   ]
  },
  {
   "cell_type": "markdown",
   "metadata": {},
   "source": [
    "Как видно из расчетов общее число клиентов больше, чем число посещений главной страницы сайта. Это значит, что не все клиенты начинали цепочку с посещения глвной страницы, кто-то из них перешел сразу к выбору продукта или попал на экран корзины(возможно пререход по старонним ссылкам)."
   ]
  },
  {
   "cell_type": "code",
   "execution_count": 38,
   "metadata": {},
   "outputs": [
    {
     "data": {
      "text/html": [
       "<div>\n",
       "<style scoped>\n",
       "    .dataframe tbody tr th:only-of-type {\n",
       "        vertical-align: middle;\n",
       "    }\n",
       "\n",
       "    .dataframe tbody tr th {\n",
       "        vertical-align: top;\n",
       "    }\n",
       "\n",
       "    .dataframe thead th {\n",
       "        text-align: right;\n",
       "    }\n",
       "</style>\n",
       "<table border=\"1\" class=\"dataframe\">\n",
       "  <thead>\n",
       "    <tr style=\"text-align: right;\">\n",
       "      <th>event_name_true</th>\n",
       "      <th>exp_id</th>\n",
       "      <th>CartScreenAppear</th>\n",
       "      <th>MainScreenAppear</th>\n",
       "      <th>OffersScreenAppear</th>\n",
       "      <th>PaymentScreenSuccessful</th>\n",
       "      <th>Tutorial</th>\n",
       "    </tr>\n",
       "  </thead>\n",
       "  <tbody>\n",
       "    <tr>\n",
       "      <th>0</th>\n",
       "      <td>246</td>\n",
       "      <td>1266</td>\n",
       "      <td>2450</td>\n",
       "      <td>1542</td>\n",
       "      <td>1200</td>\n",
       "      <td>278</td>\n",
       "    </tr>\n",
       "    <tr>\n",
       "      <th>1</th>\n",
       "      <td>247</td>\n",
       "      <td>1238</td>\n",
       "      <td>2476</td>\n",
       "      <td>1520</td>\n",
       "      <td>1158</td>\n",
       "      <td>283</td>\n",
       "    </tr>\n",
       "    <tr>\n",
       "      <th>2</th>\n",
       "      <td>248</td>\n",
       "      <td>1230</td>\n",
       "      <td>2493</td>\n",
       "      <td>1531</td>\n",
       "      <td>1181</td>\n",
       "      <td>279</td>\n",
       "    </tr>\n",
       "  </tbody>\n",
       "</table>\n",
       "</div>"
      ],
      "text/plain": [
       "event_name_true  exp_id  CartScreenAppear  MainScreenAppear  \\\n",
       "0                   246              1266              2450   \n",
       "1                   247              1238              2476   \n",
       "2                   248              1230              2493   \n",
       "\n",
       "event_name_true  OffersScreenAppear  PaymentScreenSuccessful  Tutorial  \n",
       "0                              1542                     1200       278  \n",
       "1                              1520                     1158       283  \n",
       "2                              1531                     1181       279  "
      ]
     },
     "execution_count": 38,
     "metadata": {},
     "output_type": "execute_result"
    }
   ],
   "source": [
    "# Сгруппируем данные по группам и посчитаем количество пользователей в ней на каждом этапе:\n",
    "df.pivot_table(index = 'exp_id', columns = 'event_name_true', values = 'uid', aggfunc = 'nunique').reset_index()"
   ]
  },
  {
   "cell_type": "code",
   "execution_count": 39,
   "metadata": {},
   "outputs": [
    {
     "data": {
      "text/html": [
       "<div>\n",
       "<style scoped>\n",
       "    .dataframe tbody tr th:only-of-type {\n",
       "        vertical-align: middle;\n",
       "    }\n",
       "\n",
       "    .dataframe tbody tr th {\n",
       "        vertical-align: top;\n",
       "    }\n",
       "\n",
       "    .dataframe thead th {\n",
       "        text-align: right;\n",
       "    }\n",
       "</style>\n",
       "<table border=\"1\" class=\"dataframe\">\n",
       "  <thead>\n",
       "    <tr style=\"text-align: right;\">\n",
       "      <th></th>\n",
       "      <th>exp_id</th>\n",
       "      <th>CartScreenAppear</th>\n",
       "      <th>MainScreenAppear</th>\n",
       "      <th>OffersScreenAppear</th>\n",
       "      <th>PaymentScreenSuccessful</th>\n",
       "      <th>Tutorial</th>\n",
       "      <th>uid</th>\n",
       "    </tr>\n",
       "  </thead>\n",
       "  <tbody>\n",
       "    <tr>\n",
       "      <th>0</th>\n",
       "      <td>246</td>\n",
       "      <td>1266</td>\n",
       "      <td>2450</td>\n",
       "      <td>1542</td>\n",
       "      <td>1200</td>\n",
       "      <td>278</td>\n",
       "      <td>2484</td>\n",
       "    </tr>\n",
       "    <tr>\n",
       "      <th>1</th>\n",
       "      <td>247</td>\n",
       "      <td>1238</td>\n",
       "      <td>2476</td>\n",
       "      <td>1520</td>\n",
       "      <td>1158</td>\n",
       "      <td>283</td>\n",
       "      <td>2513</td>\n",
       "    </tr>\n",
       "    <tr>\n",
       "      <th>2</th>\n",
       "      <td>248</td>\n",
       "      <td>1230</td>\n",
       "      <td>2493</td>\n",
       "      <td>1531</td>\n",
       "      <td>1181</td>\n",
       "      <td>279</td>\n",
       "      <td>2537</td>\n",
       "    </tr>\n",
       "  </tbody>\n",
       "</table>\n",
       "</div>"
      ],
      "text/plain": [
       "   exp_id  CartScreenAppear  MainScreenAppear  OffersScreenAppear  \\\n",
       "0     246              1266              2450                1542   \n",
       "1     247              1238              2476                1520   \n",
       "2     248              1230              2493                1531   \n",
       "\n",
       "   PaymentScreenSuccessful  Tutorial   uid  \n",
       "0                     1200       278  2484  \n",
       "1                     1158       283  2513  \n",
       "2                     1181       279  2537  "
      ]
     },
     "execution_count": 39,
     "metadata": {},
     "output_type": "execute_result"
    }
   ],
   "source": [
    "# Соединим эту таблицу с данными по общим количествам пользователей в группах:\n",
    "dfgr = df.pivot_table(index = 'exp_id', columns = 'event_name_true', values = 'uid', aggfunc = 'nunique').reset_index()\\\n",
    ".merge(df.groupby('exp_id', as_index=False).agg({'uid' : 'nunique'}), left_on='exp_id', right_on='exp_id', how='left')\n",
    "dfgr"
   ]
  },
  {
   "cell_type": "code",
   "execution_count": 40,
   "metadata": {},
   "outputs": [
    {
     "data": {
      "text/html": [
       "<div>\n",
       "<style scoped>\n",
       "    .dataframe tbody tr th:only-of-type {\n",
       "        vertical-align: middle;\n",
       "    }\n",
       "\n",
       "    .dataframe tbody tr th {\n",
       "        vertical-align: top;\n",
       "    }\n",
       "\n",
       "    .dataframe thead th {\n",
       "        text-align: right;\n",
       "    }\n",
       "</style>\n",
       "<table border=\"1\" class=\"dataframe\">\n",
       "  <thead>\n",
       "    <tr style=\"text-align: right;\">\n",
       "      <th></th>\n",
       "      <th>exp_id</th>\n",
       "      <th>CartScreenAppear</th>\n",
       "      <th>MainScreenAppear</th>\n",
       "      <th>OffersScreenAppear</th>\n",
       "      <th>PaymentScreenSuccessful</th>\n",
       "      <th>Tutorial</th>\n",
       "      <th>uid</th>\n",
       "      <th>proportion_CartScreenAppear</th>\n",
       "      <th>proportion_MainScreenAppear</th>\n",
       "      <th>proportion_Tutorial</th>\n",
       "      <th>proportion_OffersScreenAppear</th>\n",
       "      <th>proportion_PaymentScreenSuccessful</th>\n",
       "    </tr>\n",
       "  </thead>\n",
       "  <tbody>\n",
       "    <tr>\n",
       "      <th>0</th>\n",
       "      <td>246</td>\n",
       "      <td>1266</td>\n",
       "      <td>2450</td>\n",
       "      <td>1542</td>\n",
       "      <td>1200</td>\n",
       "      <td>278</td>\n",
       "      <td>2484</td>\n",
       "      <td>0.509662</td>\n",
       "      <td>0.986312</td>\n",
       "      <td>0.111916</td>\n",
       "      <td>0.620773</td>\n",
       "      <td>0.483092</td>\n",
       "    </tr>\n",
       "    <tr>\n",
       "      <th>1</th>\n",
       "      <td>247</td>\n",
       "      <td>1238</td>\n",
       "      <td>2476</td>\n",
       "      <td>1520</td>\n",
       "      <td>1158</td>\n",
       "      <td>283</td>\n",
       "      <td>2513</td>\n",
       "      <td>0.492638</td>\n",
       "      <td>0.985277</td>\n",
       "      <td>0.112614</td>\n",
       "      <td>0.604855</td>\n",
       "      <td>0.460804</td>\n",
       "    </tr>\n",
       "    <tr>\n",
       "      <th>2</th>\n",
       "      <td>248</td>\n",
       "      <td>1230</td>\n",
       "      <td>2493</td>\n",
       "      <td>1531</td>\n",
       "      <td>1181</td>\n",
       "      <td>279</td>\n",
       "      <td>2537</td>\n",
       "      <td>0.484825</td>\n",
       "      <td>0.982657</td>\n",
       "      <td>0.109972</td>\n",
       "      <td>0.603469</td>\n",
       "      <td>0.465510</td>\n",
       "    </tr>\n",
       "  </tbody>\n",
       "</table>\n",
       "</div>"
      ],
      "text/plain": [
       "   exp_id  CartScreenAppear  MainScreenAppear  OffersScreenAppear  \\\n",
       "0     246              1266              2450                1542   \n",
       "1     247              1238              2476                1520   \n",
       "2     248              1230              2493                1531   \n",
       "\n",
       "   PaymentScreenSuccessful  Tutorial   uid  proportion_CartScreenAppear  \\\n",
       "0                     1200       278  2484                     0.509662   \n",
       "1                     1158       283  2513                     0.492638   \n",
       "2                     1181       279  2537                     0.484825   \n",
       "\n",
       "   proportion_MainScreenAppear  proportion_Tutorial  \\\n",
       "0                     0.986312             0.111916   \n",
       "1                     0.985277             0.112614   \n",
       "2                     0.982657             0.109972   \n",
       "\n",
       "   proportion_OffersScreenAppear  proportion_PaymentScreenSuccessful  \n",
       "0                       0.620773                            0.483092  \n",
       "1                       0.604855                            0.460804  \n",
       "2                       0.603469                            0.465510  "
      ]
     },
     "execution_count": 40,
     "metadata": {},
     "output_type": "execute_result"
    }
   ],
   "source": [
    "# Добавим данные по доле пользователей от общего числа в группе:\n",
    "dfgr['proportion_CartScreenAppear'] = dfgr['CartScreenAppear']/dfgr['uid']\n",
    "dfgr['proportion_MainScreenAppear'] = dfgr['MainScreenAppear']/dfgr['uid']\n",
    "dfgr['proportion_Tutorial'] = dfgr['Tutorial']/dfgr['uid']\n",
    "dfgr['proportion_OffersScreenAppear'] = dfgr['OffersScreenAppear']/dfgr['uid']\n",
    "dfgr['proportion_PaymentScreenSuccessful'] = dfgr['PaymentScreenSuccessful']/dfgr['uid']\n",
    "dfgr"
   ]
  },
  {
   "cell_type": "code",
   "execution_count": 41,
   "metadata": {},
   "outputs": [
    {
     "data": {
      "text/plain": [
       "['exp_id',\n",
       " 'CartScreenAppear',\n",
       " 'MainScreenAppear',\n",
       " 'OffersScreenAppear',\n",
       " 'PaymentScreenSuccessful',\n",
       " 'Tutorial',\n",
       " 'uid',\n",
       " 'proportion_CartScreenAppear',\n",
       " 'proportion_MainScreenAppear',\n",
       " 'proportion_Tutorial',\n",
       " 'proportion_OffersScreenAppear',\n",
       " 'proportion_PaymentScreenSuccessful']"
      ]
     },
     "execution_count": 41,
     "metadata": {},
     "output_type": "execute_result"
    }
   ],
   "source": [
    "cols = dfgr.columns.tolist()\n",
    "cols"
   ]
  },
  {
   "cell_type": "code",
   "execution_count": 42,
   "metadata": {},
   "outputs": [
    {
     "data": {
      "text/html": [
       "<div>\n",
       "<style scoped>\n",
       "    .dataframe tbody tr th:only-of-type {\n",
       "        vertical-align: middle;\n",
       "    }\n",
       "\n",
       "    .dataframe tbody tr th {\n",
       "        vertical-align: top;\n",
       "    }\n",
       "\n",
       "    .dataframe thead th {\n",
       "        text-align: right;\n",
       "    }\n",
       "</style>\n",
       "<table border=\"1\" class=\"dataframe\">\n",
       "  <thead>\n",
       "    <tr style=\"text-align: right;\">\n",
       "      <th></th>\n",
       "      <th>exp_id</th>\n",
       "      <th>uid</th>\n",
       "      <th>MainScreenAppear</th>\n",
       "      <th>proportion_MainScreenAppear</th>\n",
       "      <th>OffersScreenAppear</th>\n",
       "      <th>proportion_OffersScreenAppear</th>\n",
       "      <th>CartScreenAppear</th>\n",
       "      <th>proportion_CartScreenAppear</th>\n",
       "      <th>PaymentScreenSuccessful</th>\n",
       "      <th>proportion_PaymentScreenSuccessful</th>\n",
       "      <th>Tutorial</th>\n",
       "      <th>proportion_Tutorial</th>\n",
       "    </tr>\n",
       "  </thead>\n",
       "  <tbody>\n",
       "    <tr>\n",
       "      <th>0</th>\n",
       "      <td>246</td>\n",
       "      <td>2484</td>\n",
       "      <td>2450</td>\n",
       "      <td>0.986312</td>\n",
       "      <td>1542</td>\n",
       "      <td>0.620773</td>\n",
       "      <td>1266</td>\n",
       "      <td>0.509662</td>\n",
       "      <td>1200</td>\n",
       "      <td>0.483092</td>\n",
       "      <td>278</td>\n",
       "      <td>0.111916</td>\n",
       "    </tr>\n",
       "    <tr>\n",
       "      <th>1</th>\n",
       "      <td>247</td>\n",
       "      <td>2513</td>\n",
       "      <td>2476</td>\n",
       "      <td>0.985277</td>\n",
       "      <td>1520</td>\n",
       "      <td>0.604855</td>\n",
       "      <td>1238</td>\n",
       "      <td>0.492638</td>\n",
       "      <td>1158</td>\n",
       "      <td>0.460804</td>\n",
       "      <td>283</td>\n",
       "      <td>0.112614</td>\n",
       "    </tr>\n",
       "    <tr>\n",
       "      <th>2</th>\n",
       "      <td>248</td>\n",
       "      <td>2537</td>\n",
       "      <td>2493</td>\n",
       "      <td>0.982657</td>\n",
       "      <td>1531</td>\n",
       "      <td>0.603469</td>\n",
       "      <td>1230</td>\n",
       "      <td>0.484825</td>\n",
       "      <td>1181</td>\n",
       "      <td>0.465510</td>\n",
       "      <td>279</td>\n",
       "      <td>0.109972</td>\n",
       "    </tr>\n",
       "  </tbody>\n",
       "</table>\n",
       "</div>"
      ],
      "text/plain": [
       "   exp_id   uid  MainScreenAppear  proportion_MainScreenAppear  \\\n",
       "0     246  2484              2450                     0.986312   \n",
       "1     247  2513              2476                     0.985277   \n",
       "2     248  2537              2493                     0.982657   \n",
       "\n",
       "   OffersScreenAppear  proportion_OffersScreenAppear  CartScreenAppear  \\\n",
       "0                1542                       0.620773              1266   \n",
       "1                1520                       0.604855              1238   \n",
       "2                1531                       0.603469              1230   \n",
       "\n",
       "   proportion_CartScreenAppear  PaymentScreenSuccessful  \\\n",
       "0                     0.509662                     1200   \n",
       "1                     0.492638                     1158   \n",
       "2                     0.484825                     1181   \n",
       "\n",
       "   proportion_PaymentScreenSuccessful  Tutorial  proportion_Tutorial  \n",
       "0                            0.483092       278             0.111916  \n",
       "1                            0.460804       283             0.112614  \n",
       "2                            0.465510       279             0.109972  "
      ]
     },
     "execution_count": 42,
     "metadata": {},
     "output_type": "execute_result"
    }
   ],
   "source": [
    "# Для удобсва поменяем столбцы местами:\n",
    "cols = ['exp_id', 'uid', 'MainScreenAppear', 'proportion_MainScreenAppear', 'OffersScreenAppear','proportion_OffersScreenAppear',\\\n",
    "       'CartScreenAppear','proportion_CartScreenAppear','PaymentScreenSuccessful','proportion_PaymentScreenSuccessful',\\\n",
    "       'Tutorial','proportion_Tutorial']\n",
    "dfgr = dfgr[cols].copy()\n",
    "dfgr"
   ]
  },
  {
   "cell_type": "code",
   "execution_count": 43,
   "metadata": {},
   "outputs": [
    {
     "name": "stderr",
     "output_type": "stream",
     "text": [
      "C:\\Program Files (x86)\\Anaconda3\\lib\\site-packages\\pandas\\core\\indexing.py:543: SettingWithCopyWarning: \n",
      "A value is trying to be set on a copy of a slice from a DataFrame.\n",
      "Try using .loc[row_indexer,col_indexer] = value instead\n",
      "\n",
      "See the caveats in the documentation: http://pandas.pydata.org/pandas-docs/stable/indexing.html#indexing-view-versus-copy\n",
      "  self.obj[item] = s\n"
     ]
    },
    {
     "data": {
      "text/html": [
       "<div>\n",
       "<style scoped>\n",
       "    .dataframe tbody tr th:only-of-type {\n",
       "        vertical-align: middle;\n",
       "    }\n",
       "\n",
       "    .dataframe tbody tr th {\n",
       "        vertical-align: top;\n",
       "    }\n",
       "\n",
       "    .dataframe thead th {\n",
       "        text-align: right;\n",
       "    }\n",
       "</style>\n",
       "<table border=\"1\" class=\"dataframe\">\n",
       "  <thead>\n",
       "    <tr style=\"text-align: right;\">\n",
       "      <th></th>\n",
       "      <th>exp_id</th>\n",
       "      <th>uid</th>\n",
       "      <th>MainScreenAppear</th>\n",
       "      <th>proportion_MainScreenAppear</th>\n",
       "      <th>OffersScreenAppear</th>\n",
       "      <th>proportion_OffersScreenAppear</th>\n",
       "      <th>CartScreenAppear</th>\n",
       "      <th>proportion_CartScreenAppear</th>\n",
       "      <th>PaymentScreenSuccessful</th>\n",
       "      <th>proportion_PaymentScreenSuccessful</th>\n",
       "      <th>Tutorial</th>\n",
       "      <th>proportion_Tutorial</th>\n",
       "    </tr>\n",
       "  </thead>\n",
       "  <tbody>\n",
       "    <tr>\n",
       "      <th>0</th>\n",
       "      <td>246_247</td>\n",
       "      <td>4997</td>\n",
       "      <td>4926</td>\n",
       "      <td>0.985791</td>\n",
       "      <td>3062</td>\n",
       "      <td>0.612768</td>\n",
       "      <td>2504</td>\n",
       "      <td>0.501101</td>\n",
       "      <td>2358</td>\n",
       "      <td>0.471883</td>\n",
       "      <td>561</td>\n",
       "      <td>0.112267</td>\n",
       "    </tr>\n",
       "  </tbody>\n",
       "</table>\n",
       "</div>"
      ],
      "text/plain": [
       "    exp_id   uid  MainScreenAppear  proportion_MainScreenAppear  \\\n",
       "0  246_247  4997              4926                     0.985791   \n",
       "\n",
       "   OffersScreenAppear  proportion_OffersScreenAppear  CartScreenAppear  \\\n",
       "0                3062                       0.612768              2504   \n",
       "\n",
       "   proportion_CartScreenAppear  PaymentScreenSuccessful  \\\n",
       "0                     0.501101                     2358   \n",
       "\n",
       "   proportion_PaymentScreenSuccessful  Tutorial  proportion_Tutorial  \n",
       "0                            0.471883       561             0.112267  "
      ]
     },
     "execution_count": 43,
     "metadata": {},
     "output_type": "execute_result"
    }
   ],
   "source": [
    "# Создадим объединенную группу 246 и 247:\n",
    "\n",
    "df2 = df.query('exp_id == 246 or exp_id == 247')\n",
    "df2.loc[df['exp_id'] == 246, 'exp_id'] = '246_247'\n",
    "df2.loc[df['exp_id'] == 247, 'exp_id'] = '246_247'\n",
    "\n",
    "dfgr2 = df2.pivot_table(index = 'exp_id', columns = 'event_name_true', values = 'uid', aggfunc = 'nunique').reset_index()\\\n",
    ".merge(df2.groupby('exp_id', as_index=False).agg({'uid' : 'nunique'}), left_on='exp_id', right_on='exp_id', how='left')\n",
    "\n",
    "# Добавим данные по доле пользователей от общего числа в группе:\n",
    "dfgr2['proportion_CartScreenAppear'] = dfgr2['CartScreenAppear']/dfgr2['uid']\n",
    "dfgr2['proportion_MainScreenAppear'] = dfgr2['MainScreenAppear']/dfgr2['uid']\n",
    "dfgr2['proportion_Tutorial'] = dfgr2['Tutorial']/dfgr2['uid']\n",
    "dfgr2['proportion_OffersScreenAppear'] = dfgr2['OffersScreenAppear']/dfgr2['uid']\n",
    "dfgr2['proportion_PaymentScreenSuccessful'] = dfgr2['PaymentScreenSuccessful']/dfgr2['uid']\n",
    "\n",
    "\n",
    "cols2 = ['exp_id', 'uid', 'MainScreenAppear', 'proportion_MainScreenAppear', 'OffersScreenAppear','proportion_OffersScreenAppear',\\\n",
    "       'CartScreenAppear','proportion_CartScreenAppear','PaymentScreenSuccessful','proportion_PaymentScreenSuccessful',\\\n",
    "       'Tutorial','proportion_Tutorial']\n",
    "dfgr2 = dfgr2[cols2].copy()\n",
    "dfgr2"
   ]
  },
  {
   "cell_type": "code",
   "execution_count": 44,
   "metadata": {},
   "outputs": [
    {
     "data": {
      "text/html": [
       "<div>\n",
       "<style scoped>\n",
       "    .dataframe tbody tr th:only-of-type {\n",
       "        vertical-align: middle;\n",
       "    }\n",
       "\n",
       "    .dataframe tbody tr th {\n",
       "        vertical-align: top;\n",
       "    }\n",
       "\n",
       "    .dataframe thead th {\n",
       "        text-align: right;\n",
       "    }\n",
       "</style>\n",
       "<table border=\"1\" class=\"dataframe\">\n",
       "  <thead>\n",
       "    <tr style=\"text-align: right;\">\n",
       "      <th></th>\n",
       "      <th>exp_id</th>\n",
       "      <th>uid</th>\n",
       "      <th>MainScreenAppear</th>\n",
       "      <th>proportion_MainScreenAppear</th>\n",
       "      <th>OffersScreenAppear</th>\n",
       "      <th>proportion_OffersScreenAppear</th>\n",
       "      <th>CartScreenAppear</th>\n",
       "      <th>proportion_CartScreenAppear</th>\n",
       "      <th>PaymentScreenSuccessful</th>\n",
       "      <th>proportion_PaymentScreenSuccessful</th>\n",
       "      <th>Tutorial</th>\n",
       "      <th>proportion_Tutorial</th>\n",
       "    </tr>\n",
       "  </thead>\n",
       "  <tbody>\n",
       "    <tr>\n",
       "      <th>0</th>\n",
       "      <td>246</td>\n",
       "      <td>2484</td>\n",
       "      <td>2450</td>\n",
       "      <td>0.986312</td>\n",
       "      <td>1542</td>\n",
       "      <td>0.620773</td>\n",
       "      <td>1266</td>\n",
       "      <td>0.509662</td>\n",
       "      <td>1200</td>\n",
       "      <td>0.483092</td>\n",
       "      <td>278</td>\n",
       "      <td>0.111916</td>\n",
       "    </tr>\n",
       "    <tr>\n",
       "      <th>1</th>\n",
       "      <td>247</td>\n",
       "      <td>2513</td>\n",
       "      <td>2476</td>\n",
       "      <td>0.985277</td>\n",
       "      <td>1520</td>\n",
       "      <td>0.604855</td>\n",
       "      <td>1238</td>\n",
       "      <td>0.492638</td>\n",
       "      <td>1158</td>\n",
       "      <td>0.460804</td>\n",
       "      <td>283</td>\n",
       "      <td>0.112614</td>\n",
       "    </tr>\n",
       "    <tr>\n",
       "      <th>2</th>\n",
       "      <td>248</td>\n",
       "      <td>2537</td>\n",
       "      <td>2493</td>\n",
       "      <td>0.982657</td>\n",
       "      <td>1531</td>\n",
       "      <td>0.603469</td>\n",
       "      <td>1230</td>\n",
       "      <td>0.484825</td>\n",
       "      <td>1181</td>\n",
       "      <td>0.465510</td>\n",
       "      <td>279</td>\n",
       "      <td>0.109972</td>\n",
       "    </tr>\n",
       "    <tr>\n",
       "      <th>0</th>\n",
       "      <td>246_247</td>\n",
       "      <td>4997</td>\n",
       "      <td>4926</td>\n",
       "      <td>0.985791</td>\n",
       "      <td>3062</td>\n",
       "      <td>0.612768</td>\n",
       "      <td>2504</td>\n",
       "      <td>0.501101</td>\n",
       "      <td>2358</td>\n",
       "      <td>0.471883</td>\n",
       "      <td>561</td>\n",
       "      <td>0.112267</td>\n",
       "    </tr>\n",
       "  </tbody>\n",
       "</table>\n",
       "</div>"
      ],
      "text/plain": [
       "    exp_id   uid  MainScreenAppear  proportion_MainScreenAppear  \\\n",
       "0      246  2484              2450                     0.986312   \n",
       "1      247  2513              2476                     0.985277   \n",
       "2      248  2537              2493                     0.982657   \n",
       "0  246_247  4997              4926                     0.985791   \n",
       "\n",
       "   OffersScreenAppear  proportion_OffersScreenAppear  CartScreenAppear  \\\n",
       "0                1542                       0.620773              1266   \n",
       "1                1520                       0.604855              1238   \n",
       "2                1531                       0.603469              1230   \n",
       "0                3062                       0.612768              2504   \n",
       "\n",
       "   proportion_CartScreenAppear  PaymentScreenSuccessful  \\\n",
       "0                     0.509662                     1200   \n",
       "1                     0.492638                     1158   \n",
       "2                     0.484825                     1181   \n",
       "0                     0.501101                     2358   \n",
       "\n",
       "   proportion_PaymentScreenSuccessful  Tutorial  proportion_Tutorial  \n",
       "0                            0.483092       278             0.111916  \n",
       "1                            0.460804       283             0.112614  \n",
       "2                            0.465510       279             0.109972  \n",
       "0                            0.471883       561             0.112267  "
      ]
     },
     "execution_count": 44,
     "metadata": {},
     "output_type": "execute_result"
    }
   ],
   "source": [
    "# создадим таблицу со всеми группами, включая объединенную 246 и 247\n",
    "frames = [dfgr, dfgr2]\n",
    "dfgr1 = pd.concat(frames)\n",
    "dfgr1"
   ]
  },
  {
   "cell_type": "markdown",
   "metadata": {},
   "source": [
    "Самым популярным событием является посещение главной страницы сайта. Доля пользователей, совершивших данное событие, по группам примерно равна.\n",
    "\n",
    "Доля клиентов, совершивших покупку, также практичестки не отличатся."
   ]
  },
  {
   "cell_type": "markdown",
   "metadata": {},
   "source": [
    "#### Проведение А/А-эксперимента <a id=\"part10\"></a>"
   ]
  },
  {
   "cell_type": "code",
   "execution_count": 45,
   "metadata": {},
   "outputs": [],
   "source": [
    "# создадим функцию для  проверки гипотезы о равенстве долей:\n",
    "\n",
    "def stat_test(part0, part1, total0, total1):  \n",
    "    \n",
    "    alpha = .05 # критический уровень статистической значимости\n",
    "\n",
    "    # пропорция успехов в первой группе:\n",
    "    p1 = part0/total0\n",
    "\n",
    "    # пропорция успехов во второй группе:\n",
    "    p2 = part1/total1\n",
    "\n",
    "    # пропорция успехов в комбинированном датасете:\n",
    "    p_combined = (part0 + part1) / (total0 + total1)\n",
    "\n",
    "    # разница пропорций в датасетах\n",
    "    difference = p1 - p2\n",
    "\n",
    "    z_value = difference / mth.sqrt(p_combined * (1 - p_combined) * (1/total0 + 1/total1))\n",
    "\n",
    "    distr = st.norm(0, 1) \n",
    "\n",
    "    p_value = (1 - distr.cdf(abs(z_value))) * 2\n",
    "\n",
    "    print('p-значение: ', p_value)\n",
    "\n",
    "    if (p_value < alpha):\n",
    "        print(\"Отвергаем нулевую гипотезу: между долями есть значимая разница\")\n",
    "    else:\n",
    "        print(\"Не получилось отвергнуть нулевую гипотезу, нет оснований считать доли разными\")"
   ]
  },
  {
   "cell_type": "code",
   "execution_count": 46,
   "metadata": {},
   "outputs": [
    {
     "data": {
      "text/html": [
       "<div>\n",
       "<style scoped>\n",
       "    .dataframe tbody tr th:only-of-type {\n",
       "        vertical-align: middle;\n",
       "    }\n",
       "\n",
       "    .dataframe tbody tr th {\n",
       "        vertical-align: top;\n",
       "    }\n",
       "\n",
       "    .dataframe thead th {\n",
       "        text-align: right;\n",
       "    }\n",
       "</style>\n",
       "<table border=\"1\" class=\"dataframe\">\n",
       "  <thead>\n",
       "    <tr style=\"text-align: right;\">\n",
       "      <th></th>\n",
       "      <th>index</th>\n",
       "      <th>exp_id</th>\n",
       "      <th>uid</th>\n",
       "      <th>MainScreenAppear</th>\n",
       "      <th>proportion_MainScreenAppear</th>\n",
       "      <th>OffersScreenAppear</th>\n",
       "      <th>proportion_OffersScreenAppear</th>\n",
       "      <th>CartScreenAppear</th>\n",
       "      <th>proportion_CartScreenAppear</th>\n",
       "      <th>PaymentScreenSuccessful</th>\n",
       "      <th>proportion_PaymentScreenSuccessful</th>\n",
       "      <th>Tutorial</th>\n",
       "      <th>proportion_Tutorial</th>\n",
       "    </tr>\n",
       "  </thead>\n",
       "  <tbody>\n",
       "    <tr>\n",
       "      <th>0</th>\n",
       "      <td>0</td>\n",
       "      <td>246</td>\n",
       "      <td>2484</td>\n",
       "      <td>2450</td>\n",
       "      <td>0.986312</td>\n",
       "      <td>1542</td>\n",
       "      <td>0.620773</td>\n",
       "      <td>1266</td>\n",
       "      <td>0.509662</td>\n",
       "      <td>1200</td>\n",
       "      <td>0.483092</td>\n",
       "      <td>278</td>\n",
       "      <td>0.111916</td>\n",
       "    </tr>\n",
       "    <tr>\n",
       "      <th>1</th>\n",
       "      <td>1</td>\n",
       "      <td>247</td>\n",
       "      <td>2513</td>\n",
       "      <td>2476</td>\n",
       "      <td>0.985277</td>\n",
       "      <td>1520</td>\n",
       "      <td>0.604855</td>\n",
       "      <td>1238</td>\n",
       "      <td>0.492638</td>\n",
       "      <td>1158</td>\n",
       "      <td>0.460804</td>\n",
       "      <td>283</td>\n",
       "      <td>0.112614</td>\n",
       "    </tr>\n",
       "    <tr>\n",
       "      <th>2</th>\n",
       "      <td>2</td>\n",
       "      <td>248</td>\n",
       "      <td>2537</td>\n",
       "      <td>2493</td>\n",
       "      <td>0.982657</td>\n",
       "      <td>1531</td>\n",
       "      <td>0.603469</td>\n",
       "      <td>1230</td>\n",
       "      <td>0.484825</td>\n",
       "      <td>1181</td>\n",
       "      <td>0.465510</td>\n",
       "      <td>279</td>\n",
       "      <td>0.109972</td>\n",
       "    </tr>\n",
       "    <tr>\n",
       "      <th>3</th>\n",
       "      <td>0</td>\n",
       "      <td>246_247</td>\n",
       "      <td>4997</td>\n",
       "      <td>4926</td>\n",
       "      <td>0.985791</td>\n",
       "      <td>3062</td>\n",
       "      <td>0.612768</td>\n",
       "      <td>2504</td>\n",
       "      <td>0.501101</td>\n",
       "      <td>2358</td>\n",
       "      <td>0.471883</td>\n",
       "      <td>561</td>\n",
       "      <td>0.112267</td>\n",
       "    </tr>\n",
       "  </tbody>\n",
       "</table>\n",
       "</div>"
      ],
      "text/plain": [
       "   index   exp_id   uid  MainScreenAppear  proportion_MainScreenAppear  \\\n",
       "0      0      246  2484              2450                     0.986312   \n",
       "1      1      247  2513              2476                     0.985277   \n",
       "2      2      248  2537              2493                     0.982657   \n",
       "3      0  246_247  4997              4926                     0.985791   \n",
       "\n",
       "   OffersScreenAppear  proportion_OffersScreenAppear  CartScreenAppear  \\\n",
       "0                1542                       0.620773              1266   \n",
       "1                1520                       0.604855              1238   \n",
       "2                1531                       0.603469              1230   \n",
       "3                3062                       0.612768              2504   \n",
       "\n",
       "   proportion_CartScreenAppear  PaymentScreenSuccessful  \\\n",
       "0                     0.509662                     1200   \n",
       "1                     0.492638                     1158   \n",
       "2                     0.484825                     1181   \n",
       "3                     0.501101                     2358   \n",
       "\n",
       "   proportion_PaymentScreenSuccessful  Tutorial  proportion_Tutorial  \n",
       "0                            0.483092       278             0.111916  \n",
       "1                            0.460804       283             0.112614  \n",
       "2                            0.465510       279             0.109972  \n",
       "3                            0.471883       561             0.112267  "
      ]
     },
     "execution_count": 46,
     "metadata": {},
     "output_type": "execute_result"
    }
   ],
   "source": [
    "dfgr1.reset_index()"
   ]
  },
  {
   "cell_type": "code",
   "execution_count": 47,
   "metadata": {},
   "outputs": [
    {
     "data": {
      "text/plain": [
       "2484"
      ]
     },
     "execution_count": 47,
     "metadata": {},
     "output_type": "execute_result"
    }
   ],
   "source": [
    "dfgr1.reset_index()['uid'][0]"
   ]
  },
  {
   "cell_type": "markdown",
   "metadata": {},
   "source": [
    "Проведение z- теста с группами 246 и 247"
   ]
  },
  {
   "cell_type": "code",
   "execution_count": 48,
   "metadata": {},
   "outputs": [
    {
     "name": "stdout",
     "output_type": "stream",
     "text": [
      "p-значение:  0.7570597232046099\n",
      "Не получилось отвергнуть нулевую гипотезу, нет оснований считать доли разными\n",
      "p-значение:  0.2480954578522181\n",
      "Не получилось отвергнуть нулевую гипотезу, нет оснований считать доли разными\n",
      "p-значение:  0.22883372237997213\n",
      "Не получилось отвергнуть нулевую гипотезу, нет оснований считать доли разными\n",
      "p-значение:  0.11456679313141849\n",
      "Не получилось отвергнуть нулевую гипотезу, нет оснований считать доли разными\n"
     ]
    }
   ],
   "source": [
    "# Сравнение по MainScreenAppear\n",
    "stat_test(2450, 2476, 2484, 2513)\n",
    "\n",
    "# Сравнение по OffersScreenAppear\n",
    "stat_test(1542, 1520, 2484, 2513)\n",
    "\n",
    "# Сравнение по CartScreenAppear\n",
    "stat_test(1266, 1238, 2484, 2513)\n",
    "\n",
    "# Сравнение по PaymentScreenSuccessful\n",
    "stat_test(1200, 1158, 2484, 2513)"
   ]
  },
  {
   "cell_type": "markdown",
   "metadata": {},
   "source": [
    "На основании расчетов с критическим уровнем статистической значимости равным 0,05 в контрольных группах заметных расхождений не выявлено, разбиение на группы работает корректно."
   ]
  },
  {
   "cell_type": "markdown",
   "metadata": {},
   "source": [
    "#### Проведение А/В-эксперимента <a id=\"part11\"></a>"
   ]
  },
  {
   "cell_type": "markdown",
   "metadata": {},
   "source": [
    "Проведение z- теста с группами 246 и 248"
   ]
  },
  {
   "cell_type": "code",
   "execution_count": 49,
   "metadata": {},
   "outputs": [
    {
     "name": "stdout",
     "output_type": "stream",
     "text": [
      "p-значение:  0.2949721933554552\n",
      "Не получилось отвергнуть нулевую гипотезу, нет оснований считать доли разными\n",
      "p-значение:  0.5399231835763176\n",
      "Не получилось отвергнуть нулевую гипотезу, нет оснований считать доли разными\n",
      "p-значение:  0.07842923237520116\n",
      "Не получилось отвергнуть нулевую гипотезу, нет оснований считать доли разными\n",
      "p-значение:  0.2122553275697796\n",
      "Не получилось отвергнуть нулевую гипотезу, нет оснований считать доли разными\n"
     ]
    }
   ],
   "source": [
    "# Сравнение по MainScreenAppear\n",
    "stat_test(2450, 2493, 2484, 2537)\n",
    "\n",
    "# Сравнение по OffersScreenAppear\n",
    "stat_test(1520, 1531, 2484, 2537)\n",
    "\n",
    "# Сравнение по CartScreenAppear\n",
    "stat_test(1266, 1230, 2484, 2537)\n",
    "\n",
    "# Сравнение по PaymentScreenSuccessful\n",
    "stat_test(1200, 1181, 2484, 2537)"
   ]
  },
  {
   "cell_type": "markdown",
   "metadata": {},
   "source": [
    "На основании расчетов с критическим уровнем статистической значимости равным 0,05 в контрольных группах заметных расхождений не выявлено."
   ]
  },
  {
   "cell_type": "markdown",
   "metadata": {},
   "source": [
    "Проведение z- теста с группами 247 и 248"
   ]
  },
  {
   "cell_type": "code",
   "execution_count": 50,
   "metadata": {},
   "outputs": [
    {
     "name": "stdout",
     "output_type": "stream",
     "text": [
      "p-значение:  0.4587053616621515\n",
      "Не получилось отвергнуть нулевую гипотезу, нет оснований считать доли разными\n",
      "p-значение:  0.46038693051414503\n",
      "Не получилось отвергнуть нулевую гипотезу, нет оснований считать доли разными\n",
      "p-значение:  0.5786197879539783\n",
      "Не получилось отвергнуть нулевую гипотезу, нет оснований считать доли разными\n",
      "p-значение:  0.7373415053803964\n",
      "Не получилось отвергнуть нулевую гипотезу, нет оснований считать доли разными\n"
     ]
    }
   ],
   "source": [
    "# Сравнение по MainScreenAppear\n",
    "stat_test(2476, 2493, 2513, 2537)\n",
    "\n",
    "# Сравнение по OffersScreenAppear\n",
    "stat_test(1542, 1531, 2513, 2537)\n",
    "\n",
    "# Сравнение по CartScreenAppear\n",
    "stat_test(1238, 1230, 2513, 2537)\n",
    "\n",
    "# Сравнение по PaymentScreenSuccessful\n",
    "stat_test(1158, 1181, 2513, 2537)"
   ]
  },
  {
   "cell_type": "markdown",
   "metadata": {},
   "source": [
    "На основании расчетов с критическим уровнем статистической значимости равным 0,05 в контрольных группах заметных расхождений не выявлено"
   ]
  },
  {
   "cell_type": "markdown",
   "metadata": {},
   "source": [
    "Проведение z- теста с объединенной группой 246 и 247 и группой 248"
   ]
  },
  {
   "cell_type": "code",
   "execution_count": 51,
   "metadata": {},
   "outputs": [
    {
     "name": "stdout",
     "output_type": "stream",
     "text": [
      "p-значение:  0.29424526837179577\n",
      "Не получилось отвергнуть нулевую гипотезу, нет оснований считать доли разными\n",
      "p-значение:  0.43425549655188256\n",
      "Не получилось отвергнуть нулевую гипотезу, нет оснований считать доли разными\n",
      "p-значение:  0.18175875284404386\n",
      "Не получилось отвергнуть нулевую гипотезу, нет оснований считать доли разными\n",
      "p-значение:  0.6004294282308704\n",
      "Не получилось отвергнуть нулевую гипотезу, нет оснований считать доли разными\n"
     ]
    }
   ],
   "source": [
    "# Сравнение по MainScreenAppear\n",
    "stat_test(4926, 2493, 4997, 2537)\n",
    "\n",
    "# Сравнение по OffersScreenAppear\n",
    "stat_test(3062, 1531, 4997, 2537)\n",
    "\n",
    "# Сравнение по CartScreenAppear\n",
    "stat_test(2504, 1230, 4997, 2537)\n",
    "\n",
    "# Сравнение по PaymentScreenSuccessful\n",
    "stat_test(2358, 1181, 4997, 2537)"
   ]
  },
  {
   "cell_type": "markdown",
   "metadata": {},
   "source": [
    "На основании расчетов с критическим уровнем статистической значимости равным 0,05 в контрольных группах заметных расхождений не выявлено"
   ]
  },
  {
   "cell_type": "markdown",
   "metadata": {},
   "source": [
    "<a id=\"end\"></a>\n",
    "## Выводы"
   ]
  },
  {
   "cell_type": "markdown",
   "metadata": {},
   "source": [
    "* При изучении данных было выявлено, что полные данные имеются только за 7 дней из заявленных 14.\n",
    "* При изучении воронки событий выделениы следующие этапы: Самое большое количество событий приходится на MainScreenAppear(переход клиентов на главную страницу сайта), затем идет OffersScreenAppear(переход на экран с предложениями), после него CartScreenAppear(переход в корзину с покупками), далее PaymentScreenSuccessful (подтверждение об оплате). Почти 47% от общего числа пользователей сайта совершили покупку.\n",
    "* Из тех, кто полностью прошел всю цепочку от посещения сайта до оплаты товара, только 6% дошли до оплаты товара. Больше всего клиентов \"теряется\" на переходе от этапа посещения сайта к выбору товара. Если брать долю клиентов, то самая большая доля потери клиентов происходит на этапе добавлении товара в корзину и оплате товара. Это может быть связано, например, со сложностями в оплате товара.\n",
    "* Всего проведено 16 проверок статистических гипотез, из них 4 приходится на АА тест, и 12 на АВ тест.\n",
    "* Данные по различию между контрольными группами 246 и 247 сообщают, что заметных расхождений между контрольными группами не выявлено.\n",
    "* На основании расчетов с критическим уровнем статистической значимости равным 0,05 при проведении А/В теста между контрольными группами и экспирементальной заметных расхождений не выявлено. В экспериментальной группе немного снизилась доля клиентов, обращающихся за помощью.\n",
    "\n",
    "Исходя из перечисленных фактов нужно продолжить тест, т.к. значимых различий между контрольными и экспериментальной группами не выявлено. Возможно на это сказалась первоначальная \"потеря\" данных"
   ]
  },
  {
   "cell_type": "code",
   "execution_count": null,
   "metadata": {},
   "outputs": [],
   "source": []
  }
 ],
 "metadata": {
  "kernelspec": {
   "display_name": "Python 3",
   "language": "python",
   "name": "python3"
  },
  "language_info": {
   "codemirror_mode": {
    "name": "ipython",
    "version": 3
   },
   "file_extension": ".py",
   "mimetype": "text/x-python",
   "name": "python",
   "nbconvert_exporter": "python",
   "pygments_lexer": "ipython3",
   "version": "3.6.5"
  }
 },
 "nbformat": 4,
 "nbformat_minor": 2
}
